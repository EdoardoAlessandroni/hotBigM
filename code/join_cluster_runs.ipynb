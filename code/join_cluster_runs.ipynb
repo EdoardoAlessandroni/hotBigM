{
 "cells": [
  {
   "cell_type": "code",
   "execution_count": 5,
   "metadata": {},
   "outputs": [],
   "source": [
    "import pickle\n",
    "import numpy as np"
   ]
  },
  {
   "cell_type": "markdown",
   "metadata": {},
   "source": [
    "### Join multiple runs (different pars for same size) into single dictionary"
   ]
  },
  {
   "cell_type": "code",
   "execution_count": 6,
   "metadata": {},
   "outputs": [],
   "source": [
    "def copy_partial_data(d, D):\n",
    "    if type(d) == dict:\n",
    "        for k in d.keys():\n",
    "            if k not in D:\n",
    "                D[k] = d[k]\n",
    "            else:\n",
    "                D[k] = copy_partial_data(d[k], D[k])\n",
    "    return D"
   ]
  },
  {
   "cell_type": "markdown",
   "metadata": {},
   "source": [
    "## For SA files"
   ]
  },
  {
   "cell_type": "code",
   "execution_count": 7,
   "metadata": {},
   "outputs": [
    {
     "ename": "FileNotFoundError",
     "evalue": "[Errno 2] No such file or directory: '../data/SA_TSP_case_righttemp/results-Nc=26_pars_5_42_feasibility_1_0.25.txt'",
     "output_type": "error",
     "traceback": [
      "\u001b[0;31m---------------------------------------------------------------------------\u001b[0m",
      "\u001b[0;31mFileNotFoundError\u001b[0m                         Traceback (most recent call last)",
      "Cell \u001b[0;32mIn[7], line 32\u001b[0m\n\u001b[1;32m     30\u001b[0m \u001b[38;5;28;01mfor\u001b[39;00m eta_run \u001b[38;5;129;01min\u001b[39;00m n_eta_runs:\n\u001b[1;32m     31\u001b[0m     filename \u001b[38;5;241m=\u001b[39m filestart \u001b[38;5;241m+\u001b[39m \u001b[38;5;124mf\u001b[39m\u001b[38;5;124m\"\u001b[39m\u001b[38;5;124m_pars_\u001b[39m\u001b[38;5;132;01m{\u001b[39;00mN_idx\u001b[38;5;132;01m}\u001b[39;00m\u001b[38;5;124m_\u001b[39m\u001b[38;5;132;01m{\u001b[39;00mvseed\u001b[38;5;132;01m}\u001b[39;00m\u001b[38;5;124m_\u001b[39m\u001b[38;5;132;01m{\u001b[39;00mMstrat\u001b[38;5;132;01m}\u001b[39;00m\u001b[38;5;124m_\u001b[39m\u001b[38;5;132;01m{\u001b[39;00mtemp_scale\u001b[38;5;132;01m}\u001b[39;00m\u001b[38;5;124m_\u001b[39m\u001b[38;5;132;01m{\u001b[39;00meta_run\u001b[38;5;132;01m}\u001b[39;00m\u001b[38;5;124m.txt\u001b[39m\u001b[38;5;124m\"\u001b[39m\n\u001b[0;32m---> 32\u001b[0m     file \u001b[38;5;241m=\u001b[39m \u001b[38;5;28;43mopen\u001b[39;49m\u001b[43m(\u001b[49m\u001b[43mfilename\u001b[49m\u001b[43m,\u001b[49m\u001b[43m \u001b[49m\u001b[38;5;124;43m\"\u001b[39;49m\u001b[38;5;124;43mrb\u001b[39;49m\u001b[38;5;124;43m\"\u001b[39;49m\u001b[43m)\u001b[49m\n\u001b[1;32m     33\u001b[0m     D \u001b[38;5;241m=\u001b[39m pickle\u001b[38;5;241m.\u001b[39mload(file)\n\u001b[1;32m     34\u001b[0m     file\u001b[38;5;241m.\u001b[39mclose()\n",
      "File \u001b[0;32m~/anaconda3/envs/qubo_env/lib/python3.11/site-packages/IPython/core/interactiveshell.py:324\u001b[0m, in \u001b[0;36m_modified_open\u001b[0;34m(file, *args, **kwargs)\u001b[0m\n\u001b[1;32m    317\u001b[0m \u001b[38;5;28;01mif\u001b[39;00m file \u001b[38;5;129;01min\u001b[39;00m {\u001b[38;5;241m0\u001b[39m, \u001b[38;5;241m1\u001b[39m, \u001b[38;5;241m2\u001b[39m}:\n\u001b[1;32m    318\u001b[0m     \u001b[38;5;28;01mraise\u001b[39;00m \u001b[38;5;167;01mValueError\u001b[39;00m(\n\u001b[1;32m    319\u001b[0m         \u001b[38;5;124mf\u001b[39m\u001b[38;5;124m\"\u001b[39m\u001b[38;5;124mIPython won\u001b[39m\u001b[38;5;124m'\u001b[39m\u001b[38;5;124mt let you open fd=\u001b[39m\u001b[38;5;132;01m{\u001b[39;00mfile\u001b[38;5;132;01m}\u001b[39;00m\u001b[38;5;124m by default \u001b[39m\u001b[38;5;124m\"\u001b[39m\n\u001b[1;32m    320\u001b[0m         \u001b[38;5;124m\"\u001b[39m\u001b[38;5;124mas it is likely to crash IPython. If you know what you are doing, \u001b[39m\u001b[38;5;124m\"\u001b[39m\n\u001b[1;32m    321\u001b[0m         \u001b[38;5;124m\"\u001b[39m\u001b[38;5;124myou can use builtins\u001b[39m\u001b[38;5;124m'\u001b[39m\u001b[38;5;124m open.\u001b[39m\u001b[38;5;124m\"\u001b[39m\n\u001b[1;32m    322\u001b[0m     )\n\u001b[0;32m--> 324\u001b[0m \u001b[38;5;28;01mreturn\u001b[39;00m \u001b[43mio_open\u001b[49m\u001b[43m(\u001b[49m\u001b[43mfile\u001b[49m\u001b[43m,\u001b[49m\u001b[43m \u001b[49m\u001b[38;5;241;43m*\u001b[39;49m\u001b[43margs\u001b[49m\u001b[43m,\u001b[49m\u001b[43m \u001b[49m\u001b[38;5;241;43m*\u001b[39;49m\u001b[38;5;241;43m*\u001b[39;49m\u001b[43mkwargs\u001b[49m\u001b[43m)\u001b[49m\n",
      "\u001b[0;31mFileNotFoundError\u001b[0m: [Errno 2] No such file or directory: '../data/SA_TSP_case_righttemp/results-Nc=26_pars_5_42_feasibility_1_0.25.txt'"
     ]
    }
   ],
   "source": [
    "Ps = np.arange(2, 15)\n",
    "Ns = 8*Ps\n",
    "N_cities_circle =  np.arange(4, 65, 2)\n",
    "N_cities_case = np.array([14, 16, 17, 21, 22, 26])\n",
    "cases_names = {'38': ['ftv38'], '33': ['ftv33'], '42': ['dantzig42', 'swiss42'], '48': ['ry48p', 'hk48', 'gr48', 'att48'], '44': ['ftv44'], '43': ['p43'], '17': ['br17', 'gr17'], '53': ['ft53'], '21': ['gr21'], '55': ['ftv55'], '58': ['brazil58'], '14': ['burma14'], '29': ['bayg29', 'bays29'], '16': ['ulysses16'], '35': ['ftv35'], '47': ['ftv47'], '52': ['berlin52'], '22': ['ulysses22'], '26': ['fri26']}\n",
    "\n",
    "\n",
    "dataset = \"TSP_case\" # \"NPP\" or \"TSP\"\n",
    "\n",
    "N_idx = 5\n",
    "if dataset == \"NPP\":\n",
    "    vseeds = np.arange(42, 46)\n",
    "    filestart = f\"../data/SA_{dataset}/results-N={Ns[N_idx]}_P={Ps[N_idx]}\"\n",
    "elif dataset == \"TSP_circle\":\n",
    "    vseeds = [42]\n",
    "    filestart = f\"../data/SA_{dataset}/results-Nc={N_cities_circle[N_idx]}\"\n",
    "elif dataset == \"TSP_case\":\n",
    "    vseeds = [42]\n",
    "    Nc = N_cities_case[N_idx]\n",
    "    filestart = f\"../data/SA_{dataset}_righttemp/results-Nc={N_cities_case[N_idx]}\"\n",
    "M_strategies = [\"feasibility\", \"optimality\"]\n",
    "temp_scalers = [1, 10, 100]\n",
    "n_eta_runs = [.25, .5, .75]\n",
    "\n",
    "global_D = {}\n",
    "\n",
    "for vseed in vseeds:\n",
    "    for Mstrat in M_strategies:\n",
    "        for temp_scale in temp_scalers:\n",
    "            for eta_run in n_eta_runs:\n",
    "                filename = filestart + f\"_pars_{N_idx}_{vseed}_{Mstrat}_{temp_scale}_{eta_run}.txt\"\n",
    "                file = open(filename, \"rb\")\n",
    "                D = pickle.load(file)\n",
    "                file.close()\n",
    "                global_D = copy_partial_data(D, global_D)\n",
    "\n",
    "if dataset == \"TSP_case\":\n",
    "    fileend = f\"../data/SA_{dataset}_righttemp/results-{cases_names[str(Nc)][0]}.txt\"\n",
    "else:\n",
    "    fileend = filestart + \".txt\"\n",
    "\n",
    "file = open(fileend, \"wb\")\n",
    "pickle.dump(global_D, file)\n",
    "file.close()\n",
    "print(f\"File {fileend} written\")"
   ]
  },
  {
   "cell_type": "markdown",
   "metadata": {},
   "source": [
    "## For Gibbs files"
   ]
  },
  {
   "cell_type": "code",
   "execution_count": 10,
   "metadata": {},
   "outputs": [
    {
     "name": "stdout",
     "output_type": "stream",
     "text": [
      "File ../data/Gibbs_NPP/results-N=8_P=3.txt written\n"
     ]
    }
   ],
   "source": [
    "Ns = np.arange(3, 9)\n",
    "P = 3\n",
    "N_cities_circle = np.arange(2, 6)\n",
    "N_cities_rand = np.arange(2, 6)\n",
    "\n",
    "dataset = \"NPP\" # \"NPP\" or \"TSP\"\n",
    "\n",
    "N_idx = 5\n",
    "if dataset == \"NPP\":\n",
    "    vseeds = np.arange(42, 142)\n",
    "    filestart = f\"../data/Gibbs_{dataset}/results-N={Ns[N_idx]}_P={P}\"\n",
    "elif dataset == \"TSP_circle\":\n",
    "    vseeds = [42]\n",
    "    filestart = f\"../data/Gibbs_{dataset}/results-Nc={N_cities_circle[N_idx]}\"\n",
    "elif dataset == \"TSP_rand\":\n",
    "    vseeds = np.arange(42, 142)\n",
    "    filestart = f\"../data/Gibbs_{dataset}/results-Nc={N_cities_rand[N_idx]}\"\n",
    "M_strategies = [\"feasibility\", \"optimality\"]\n",
    "temp_scalers = [1, 10, 100]\n",
    "eta_runs = [.25, .5, .75]\n",
    "\n",
    "global_D = {}\n",
    "\n",
    "for vseed in vseeds:\n",
    "    for Mstrat in M_strategies:\n",
    "        for temp_scale in temp_scalers:\n",
    "            for eta_run in eta_runs:\n",
    "                filename = filestart + f\"_pars_{N_idx}_{vseed}_{Mstrat}_{temp_scale}_{eta_run}.txt\"\n",
    "                file = open(filename, \"rb\")\n",
    "                D = pickle.load(file)\n",
    "                file.close()\n",
    "                global_D = copy_partial_data(D, global_D)\n",
    "\n",
    "\n",
    "fileend = filestart + \".txt\"\n",
    "\n",
    "file = open(fileend, \"wb\")\n",
    "pickle.dump(global_D, file)\n",
    "file.close()\n",
    "print(f\"File {fileend} written\")"
   ]
  },
  {
   "cell_type": "markdown",
   "metadata": {},
   "source": [
    "### Fix mistake for $N_{idx} = 7$"
   ]
  },
  {
   "cell_type": "code",
   "execution_count": 50,
   "metadata": {},
   "outputs": [],
   "source": [
    "### correct the overwriting eta_index_0 of all the dictionaries\n",
    "\n",
    "def correct_D_etarun(D, pars):\n",
    "    k1 = \"vseed_\"+str(pars[0])\n",
    "    k2 = \"Tscale_\"+str(pars[1])\n",
    "    k3 = pars[2]\n",
    "    if pars[3] == .25:\n",
    "        k4 = \"eta_run_0\"\n",
    "    elif pars[3] == .5:\n",
    "        k4 = \"eta_run_1\"\n",
    "    elif pars[3] == .75:\n",
    "        k4 = \"eta_run_2\"\n",
    "\n",
    "    data = D[k1][k2][k3].pop(\"eta_run_0\")\n",
    "    D[k1][k2][k3][k4] = data\n",
    "    return D\n",
    "\n",
    "N_idx = 7\n",
    "vseeds = np.arange(42, 46)\n",
    "M_strategies = [\"feasibility\", \"optimality\"]\n",
    "temp_scalers = [1, 10, 100]\n",
    "n_eta_runs = [.25, .5, .75]\n",
    "\n",
    "filestart = f\"../data/SA_NPP/results-N={Ns[N_idx]}_P={Ps[N_idx]}\"\n",
    "for vseed in vseeds:\n",
    "    for Mstrat in M_strategies:\n",
    "        for temp_scale in temp_scalers:\n",
    "            for eta_run in n_eta_runs:\n",
    "                filename = filestart + f\"_pars_{N_idx}_{vseed}_{Mstrat}_{temp_scale}_{eta_run}.txt\"\n",
    "                file = open(filename, \"rb\")\n",
    "                D = pickle.load(file)\n",
    "                file.close()\n",
    "                # correct D\n",
    "                pars = (vseed, temp_scale, Mstrat, eta_run)\n",
    "                D = correct_D_etarun(D, pars)\n",
    "\n",
    "                # dump D in same filename but corrected\n",
    "                filename = filestart + f\"_pars_{N_idx}_{vseed}_{Mstrat}_{temp_scale}_{eta_run}_corrected.txt\"\n",
    "                file = open(filename, \"wb\")\n",
    "                pickle.dump(D, file)\n",
    "                file.close()"
   ]
  },
  {
   "cell_type": "markdown",
   "metadata": {},
   "source": [
    "### Rename Dicts $\"eta\\_run\\_i\" \\to \"eta\\_req\\_\\eta\"$"
   ]
  },
  {
   "cell_type": "code",
   "execution_count": null,
   "metadata": {},
   "outputs": [],
   "source": [
    "def correct_dict(D):\n",
    "    for vseed in vseeds:\n",
    "        for Mstrat in M_strategies:\n",
    "            for temp_scale in temp_scalers:\n",
    "                for eta_run, eta_req in enumerate(eta_reqs):\n",
    "                    element = D[\"vseed_\"+str(vseed)][\"Tscale_\"+str(temp_scale)][Mstrat].pop(f\"eta_run_{eta_run}\")\n",
    "                    D[\"vseed_\"+str(vseed)][\"Tscale_\"+str(temp_scale)][Mstrat][f\"eta_req_{eta_req}\"] = element\n",
    "    return D\n",
    "    \n",
    "\n",
    "vseeds = np.arange(42, 46)\n",
    "M_strategies = [\"feasibility\", \"optimality\"]\n",
    "temp_scalers = [1, 10, 100]\n",
    "eta_reqs = [.25, .5, .75]\n",
    "\n",
    "for N_idx in range(8):\n",
    "    filestart = f\"../data/SA_NPP/results-N={Ns[N_idx]}_P={Ps[N_idx]}\"\n",
    "    file = open(filestart + \".txt\", \"rb\")\n",
    "    D = pickle.load(file)\n",
    "    file.close()\n",
    "    D_corr = correct_dict(D)\n",
    "\n",
    "    file = open(filestart + \"_corrected.txt\", \"wb\")\n",
    "    pickle.dump(D_corr, file)\n",
    "    file.close()"
   ]
  }
 ],
 "metadata": {
  "kernelspec": {
   "display_name": "qubo_env",
   "language": "python",
   "name": "python3"
  },
  "language_info": {
   "codemirror_mode": {
    "name": "ipython",
    "version": 3
   },
   "file_extension": ".py",
   "mimetype": "text/x-python",
   "name": "python",
   "nbconvert_exporter": "python",
   "pygments_lexer": "ipython3",
   "version": "3.11.9"
  }
 },
 "nbformat": 4,
 "nbformat_minor": 2
}
