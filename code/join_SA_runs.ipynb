{
 "cells": [
  {
   "cell_type": "code",
   "execution_count": 1,
   "metadata": {},
   "outputs": [],
   "source": [
    "import numpy as np\n",
    "import pickle"
   ]
  },
  {
   "cell_type": "markdown",
   "metadata": {},
   "source": [
    "### Join multiple runs (different pars for same size) into single dictionary"
   ]
  },
  {
   "cell_type": "code",
   "execution_count": 2,
   "metadata": {},
   "outputs": [],
   "source": [
    "def copy_partial_data(d, D):\n",
    "    if type(d) == dict:\n",
    "        for k in d.keys():\n",
    "            if k not in D:\n",
    "                D[k] = d[k]\n",
    "            else:\n",
    "                D[k] = copy_partial_data(d[k], D[k])\n",
    "    return D"
   ]
  },
  {
   "cell_type": "code",
   "execution_count": 3,
   "metadata": {},
   "outputs": [
    {
     "name": "stdout",
     "output_type": "stream",
     "text": [
      "File ../data/SA_TSP/results-Nc=26.txt written\n"
     ]
    }
   ],
   "source": [
    "Ps = np.arange(2, 15)\n",
    "Ns = 8*Ps\n",
    "N_cities =  np.arange(4, 65, 2)\n",
    "\n",
    "\n",
    "dataset = \"TSP\" # \"NPP\" or \"TSP\"\n",
    "\n",
    "N_idx = 11\n",
    "if dataset == \"NPP\":\n",
    "    vseeds = np.arange(42, 46)\n",
    "    filestart = f\"../data/SA_NPP/results-N={Ns[N_idx]}_P={Ps[N_idx]}\"\n",
    "elif dataset == \"TSP\":\n",
    "    vseeds = [42]\n",
    "    filestart = f\"../data/SA_TSP/results-Nc={N_cities[N_idx]}\"\n",
    "M_strategies = [\"feasibility\", \"optimality\"]\n",
    "temp_scalers = [1, 10, 100]\n",
    "n_eta_runs = [.25, .5, .75]\n",
    "\n",
    "global_D = {}\n",
    "\n",
    "for vseed in vseeds:\n",
    "    for Mstrat in M_strategies:\n",
    "        for temp_scale in temp_scalers:\n",
    "            for eta_run in n_eta_runs:\n",
    "                filename = filestart + f\"_pars_{N_idx}_{vseed}_{Mstrat}_{temp_scale}_{eta_run}.txt\"\n",
    "                file = open(filename, \"rb\")\n",
    "                D = pickle.load(file)\n",
    "                file.close()\n",
    "                global_D = copy_partial_data(D, global_D)\n",
    "\n",
    "\n",
    "file = open(filestart + \".txt\", \"wb\")\n",
    "pickle.dump(global_D, file)\n",
    "file.close()\n",
    "print(f\"File {filestart}.txt written\")"
   ]
  },
  {
   "cell_type": "markdown",
   "metadata": {},
   "source": [
    "### Fix mistake for $N_{idx} = 7$"
   ]
  },
  {
   "cell_type": "code",
   "execution_count": 50,
   "metadata": {},
   "outputs": [],
   "source": [
    "### correct the overwriting eta_index_0 of all the dictionaries\n",
    "\n",
    "def correct_D_etarun(D, pars):\n",
    "    k1 = \"vseed_\"+str(pars[0])\n",
    "    k2 = \"Tscale_\"+str(pars[1])\n",
    "    k3 = pars[2]\n",
    "    if pars[3] == .25:\n",
    "        k4 = \"eta_run_0\"\n",
    "    elif pars[3] == .5:\n",
    "        k4 = \"eta_run_1\"\n",
    "    elif pars[3] == .75:\n",
    "        k4 = \"eta_run_2\"\n",
    "\n",
    "    data = D[k1][k2][k3].pop(\"eta_run_0\")\n",
    "    D[k1][k2][k3][k4] = data\n",
    "    return D\n",
    "\n",
    "N_idx = 7\n",
    "vseeds = np.arange(42, 46)\n",
    "M_strategies = [\"feasibility\", \"optimality\"]\n",
    "temp_scalers = [1, 10, 100]\n",
    "n_eta_runs = [.25, .5, .75]\n",
    "\n",
    "filestart = f\"../data/SA_NPP/results-N={Ns[N_idx]}_P={Ps[N_idx]}\"\n",
    "for vseed in vseeds:\n",
    "    for Mstrat in M_strategies:\n",
    "        for temp_scale in temp_scalers:\n",
    "            for eta_run in n_eta_runs:\n",
    "                filename = filestart + f\"_pars_{N_idx}_{vseed}_{Mstrat}_{temp_scale}_{eta_run}.txt\"\n",
    "                file = open(filename, \"rb\")\n",
    "                D = pickle.load(file)\n",
    "                file.close()\n",
    "                # correct D\n",
    "                pars = (vseed, temp_scale, Mstrat, eta_run)\n",
    "                D = correct_D_etarun(D, pars)\n",
    "\n",
    "                # dump D in same filename but corrected\n",
    "                filename = filestart + f\"_pars_{N_idx}_{vseed}_{Mstrat}_{temp_scale}_{eta_run}_corrected.txt\"\n",
    "                file = open(filename, \"wb\")\n",
    "                pickle.dump(D, file)\n",
    "                file.close()"
   ]
  },
  {
   "cell_type": "markdown",
   "metadata": {},
   "source": [
    "### Rename Dicts $\"eta\\_run\\_i\" \\to \"eta\\_req\\_\\eta\"$"
   ]
  },
  {
   "cell_type": "code",
   "execution_count": null,
   "metadata": {},
   "outputs": [],
   "source": [
    "def correct_dict(D):\n",
    "    for vseed in vseeds:\n",
    "        for Mstrat in M_strategies:\n",
    "            for temp_scale in temp_scalers:\n",
    "                for eta_run, eta_req in enumerate(eta_reqs):\n",
    "                    element = D[\"vseed_\"+str(vseed)][\"Tscale_\"+str(temp_scale)][Mstrat].pop(f\"eta_run_{eta_run}\")\n",
    "                    D[\"vseed_\"+str(vseed)][\"Tscale_\"+str(temp_scale)][Mstrat][f\"eta_req_{eta_req}\"] = element\n",
    "    return D\n",
    "    \n",
    "\n",
    "vseeds = np.arange(42, 46)\n",
    "M_strategies = [\"feasibility\", \"optimality\"]\n",
    "temp_scalers = [1, 10, 100]\n",
    "eta_reqs = [.25, .5, .75]\n",
    "\n",
    "for N_idx in range(8):\n",
    "    filestart = f\"../data/SA_NPP/results-N={Ns[N_idx]}_P={Ps[N_idx]}\"\n",
    "    file = open(filestart + \".txt\", \"rb\")\n",
    "    D = pickle.load(file)\n",
    "    file.close()\n",
    "    D_corr = correct_dict(D)\n",
    "\n",
    "    file = open(filestart + \"_corrected.txt\", \"wb\")\n",
    "    pickle.dump(D_corr, file)\n",
    "    file.close()"
   ]
  }
 ],
 "metadata": {
  "kernelspec": {
   "display_name": "qubo_env",
   "language": "python",
   "name": "python3"
  },
  "language_info": {
   "codemirror_mode": {
    "name": "ipython",
    "version": 3
   },
   "file_extension": ".py",
   "mimetype": "text/x-python",
   "name": "python",
   "nbconvert_exporter": "python",
   "pygments_lexer": "ipython3",
   "version": "3.11.9"
  }
 },
 "nbformat": 4,
 "nbformat_minor": 2
}
