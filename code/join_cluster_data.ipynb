{
 "cells": [
  {
   "cell_type": "code",
   "execution_count": 1,
   "metadata": {},
   "outputs": [],
   "source": [
    "import numpy as np\n",
    "import pickle"
   ]
  },
  {
   "cell_type": "markdown",
   "metadata": {},
   "source": [
    "## Join multiple runs (different pars for same size) into single dictionary"
   ]
  },
  {
   "cell_type": "code",
   "execution_count": 2,
   "metadata": {},
   "outputs": [],
   "source": [
    "def copy_partial_data(d, D):\n",
    "    if type(d) == dict:\n",
    "        for k in d.keys():\n",
    "            if k not in D:\n",
    "                D[k] = d[k]\n",
    "            else:\n",
    "                D[k] = copy_partial_data(d[k], D[k])\n",
    "    return D"
   ]
  },
  {
   "cell_type": "code",
   "execution_count": 3,
   "metadata": {},
   "outputs": [],
   "source": [
    "Ps = np.arange(2,15)\n",
    "Ns = 8*Ps\n",
    "\n",
    "N_idx = 6\n",
    "vseeds = np.arange(42, 46)\n",
    "M_strategies = [\"feasibility\", \"optimality\"]\n",
    "temp_scalers = [1, 10, 100]\n",
    "n_eta_runs = [.25, .5, .75]\n",
    "\n",
    "global_D = {}\n",
    "filestart = f\"../data/SA_NPP/results-N={Ns[N_idx]}_P={Ps[N_idx]}\"\n",
    "\n",
    "for vseed in vseeds:\n",
    "    for Mstrat in M_strategies:\n",
    "        for temp_scale in temp_scalers:\n",
    "            filename = filestart + f\"_pars_{N_idx}_{vseed}_{Mstrat}_{temp_scale}.txt\"\n",
    "            file = open(filename, \"rb\")\n",
    "            D = pickle.load(file)\n",
    "            file.close()\n",
    "            global_D = copy_partial_data(D, global_D)\n",
    "\n",
    "file = open(filestart + \".txt\", \"wb\")\n",
    "pickle.dump(global_D, file)\n",
    "file.close()"
   ]
  }
 ],
 "metadata": {
  "kernelspec": {
   "display_name": "qubo_env",
   "language": "python",
   "name": "python3"
  },
  "language_info": {
   "codemirror_mode": {
    "name": "ipython",
    "version": 3
   },
   "file_extension": ".py",
   "mimetype": "text/x-python",
   "name": "python",
   "nbconvert_exporter": "python",
   "pygments_lexer": "ipython3",
   "version": "3.11.9"
  }
 },
 "nbformat": 4,
 "nbformat_minor": 2
}
