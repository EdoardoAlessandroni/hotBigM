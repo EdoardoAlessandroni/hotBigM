{
 "cells": [
  {
   "cell_type": "code",
   "execution_count": 1,
   "id": "669ea5a5-3ebc-489a-ac1b-3083dca784fe",
   "metadata": {},
   "outputs": [
    {
     "name": "stdout",
     "output_type": "stream",
     "text": [
      "P 11\n",
      "N 118\n",
      "values [190, 114, 184, 176, 225, 200, 175, 294, 143, 223, 221, 143, 181, 260, 143, 288, 229, 224, 171, 105, 116, 191, 165, 295, 209, 282, 248, 220, 232, 154, 295, 152, 152, 215, 126, 136, 106, 181, 258, 239, 198, 236, 124, 144, 186, 245, 206, 106, 293, 111, 241, 277, 195, 231, 256, 151, 131, 292, 152, 106, 216, 280, 150, 112, 229, 293, 152, 253, 275, 180, 238, 172, 145, 149, 294, 150, 216, 157, 283, 163, 141, 111, 222, 141, 157, 173, 127, 238, 299, 217, 261, 166, 289, 173, 195, 244, 268, 200, 243, 201, 290, 189, 220, 245, 163, 261, 287, 156, 141, 175, 186, 203, 149, 227, 151, 102, 144, 225] \n",
      "\n",
      "objective\n",
      "[[-773265454          0          0 ...          0          0          0]\n",
      " [         0 -773265454          0 ...          0          0          0]\n",
      " [         0          0 -773265454 ...          0          0          0]\n",
      " ...\n",
      " [         0          0          0 ... -907834090          0          0]\n",
      " [         0          0          0 ...          0 -907834090          0]\n",
      " [         0          0          0 ...          0          0 -907834090]] \n",
      "\n",
      "penalty\n",
      "[[-1  2  2 ...  0  0  0]\n",
      " [ 2 -1  2 ...  0  0  0]\n",
      " [ 2  2 -1 ...  0  0  0]\n",
      " ...\n",
      " [ 0  0  0 ... -1  2  2]\n",
      " [ 0  0  0 ...  2 -1  2]\n",
      " [ 0  0  0 ...  2  2 -1]] \n",
      "\n"
     ]
    }
   ],
   "source": [
    "import json\n",
    "from dadk.BinPol import *\n",
    "\n",
    "case = 1000\n",
    "\n",
    "filename = f'case_{case}.json'\n",
    "\n",
    "with open(filename) as fp:\n",
    "    data = json.load(fp)\n",
    "    \n",
    "P = data['P']\n",
    "N = data['N']\n",
    "values = data['values']\n",
    "\n",
    "print('P', P)\n",
    "print('N', N)\n",
    "print('values', values, '\\n')\n",
    "\n",
    "BinPol.freeze_var_shape_set(VarShapeSet(BitArrayShape(name='x', shape=(N, P))))\n",
    "sums = {p: BinPol.sum(Term(values[i], ('x', i, p)) for i in range(N)) for p in range(P)}\n",
    "H_objective = 1000 * BinPol.sum((sums[p] - sum(values) / P) ** 2 for p in range(P))\n",
    "penalties = {i: (1 - BinPol.sum(Term(1, ('x', i, p)) for p in range(P))) ** 2 for i in range(N)}\n",
    "H_penalty = BinPol.sum(penalties[i] for i in range(N))\n",
    "\n",
    "print('objective')\n",
    "print(H_objective.get_weights(upper_triangular=False), '\\n')\n",
    "\n",
    "print('penalty')\n",
    "print(H_penalty.get_weights(upper_triangular=False), '\\n')"
   ]
  },
  {
   "cell_type": "code",
   "execution_count": null,
   "id": "da1dc785-b3b8-4c18-b7db-4736ef938838",
   "metadata": {},
   "outputs": [],
   "source": []
  }
 ],
 "metadata": {
  "kernelspec": {
   "display_name": "Python 3 (ipykernel)",
   "language": "python",
   "name": "python3"
  },
  "language_info": {
   "codemirror_mode": {
    "name": "ipython",
    "version": 3
   },
   "file_extension": ".py",
   "mimetype": "text/x-python",
   "name": "python",
   "nbconvert_exporter": "python",
   "pygments_lexer": "ipython3",
   "version": "3.9.20"
  }
 },
 "nbformat": 4,
 "nbformat_minor": 5
}
