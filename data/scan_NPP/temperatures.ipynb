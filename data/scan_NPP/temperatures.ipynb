{
 "cells": [
  {
   "cell_type": "code",
   "execution_count": null,
   "id": "38f200f3-bbc5-49ee-a75a-78bb14a7400c",
   "metadata": {},
   "outputs": [],
   "source": [
    "import os\n",
    "import json\n",
    "from ipywidgets import interact\n",
    "from dadk.internal.DAv2Parameter import DAv2Parameter\n",
    "\n",
    "np_list = [(f\"N={N} P={P}\", f'results-N={N}_P={P}-short.json') for N,P in [(n*8,n) for n in range(13)] if os.path.isfile(f'results-N={N}_P={P}-short.json')] \n",
    "\n",
    "def select_np(filename):\n",
    "\n",
    "    with open(filename, 'r') as fp:\n",
    "        data=json.load(fp)\n",
    "\n",
    "    def select_M(M):\n",
    "        case_list = [entry for entry in data[M] if '_data' in entry]\n",
    "\n",
    "        def select_case(case):               \n",
    "            da_parameter = DAv2Parameter(**data[M][case])\n",
    "            print(da_parameter)\n",
    "            da_parameter.plot_temperature_curve()   \n",
    "\n",
    "            iteration = 1\n",
    "            temperature = da_parameter.temperature_start\n",
    "            while iteration < da_parameter.number_iterations:\n",
    "                print(f\"iteration {iteration:8,d} - {iteration + da_parameter.temperature_interval:8,d} temperature {temperature:12.3f}\")\n",
    "                iteration += da_parameter.temperature_interval\n",
    "                temperature *= (1-da_parameter.temperature_decay)\n",
    "\n",
    "        interact(select_case, case=case_list);\n",
    "        \n",
    "    interact(select_M, M=data.keys());\n",
    "\n",
    "interact(select_np, filename=np_list);"
   ]
  },
  {
   "cell_type": "code",
   "execution_count": null,
   "id": "dda18066-8c1f-48b5-81cc-64ca18bd070a",
   "metadata": {},
   "outputs": [],
   "source": []
  }
 ],
 "metadata": {
  "kernelspec": {
   "display_name": "Python 3 (ipykernel)",
   "language": "python",
   "name": "python3"
  },
  "language_info": {
   "codemirror_mode": {
    "name": "ipython",
    "version": 3
   },
   "file_extension": ".py",
   "mimetype": "text/x-python",
   "name": "python",
   "nbconvert_exporter": "python",
   "pygments_lexer": "ipython3",
   "version": "3.9.18"
  }
 },
 "nbformat": 4,
 "nbformat_minor": 5
}
